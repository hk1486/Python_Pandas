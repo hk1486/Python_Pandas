{
 "cells": [
  {
   "cell_type": "code",
   "execution_count": 129,
   "metadata": {},
   "outputs": [],
   "source": [
    "import pandas\n",
    "import requests\n",
    "from bs4 import BeautifulSoup\n",
    "\n",
    "def make_tr_list(html): # 'tr'태그의 리스트를 만들어주는 함수\n",
    "    table = html.find('table',{'class':'type2'}) # 테이블 찾아주기\n",
    "    tr_list = table.find_all('tr',{'onmouseover':'mouseOver(this)'}) # 'tr'태그 찾아서 저장\n",
    "    return tr_list\n",
    "\n",
    "def extract_day(tr): # 하루치 뽑아내기\n",
    "    td_list = tr.find_all('td')\n",
    "    row = [td_list[0].text]\n",
    "    for td in td_list[1:]:\n",
    "        row.append(int(td.text.strip().replace(',','')))\n",
    "    del row[2] \n",
    "    return row"
   ]
  },
  {
   "cell_type": "code",
   "execution_count": 130,
   "metadata": {},
   "outputs": [],
   "source": [
    "code = '005930' # 삼전 주식 코드\n",
    "page = 1 \n",
    "url = f'https://finance.naver.com/item/sise_day.nhn?code={code}&page={page}'\n",
    "headers = {'User-Agent' : 'Mozilla/5.0'} # 헤더명을 지정해서 경로우회\n",
    "response = requests.get(url, headers = headers)\n",
    "response\n",
    "content = response.content\n",
    "html = BeautifulSoup(content, 'html.parser')"
   ]
  },
  {
   "cell_type": "code",
   "execution_count": 154,
   "metadata": {},
   "outputs": [
    {
     "data": {
      "text/plain": [
       "date\n",
       "2021.01.08    88800\n",
       "2021.01.07    82900\n",
       "2021.01.06    82200\n",
       "2021.01.05    83900\n",
       "2021.01.04    83000\n",
       "2020.12.30    81000\n",
       "2020.12.29    78300\n",
       "2020.12.28    78700\n",
       "2020.12.24    77800\n",
       "2020.12.23    73900\n",
       "Name: close, dtype: int64"
      ]
     },
     "execution_count": 154,
     "metadata": {},
     "output_type": "execute_result"
    }
   ],
   "source": [
    "tr_list = make_tr_list(html)\n",
    "days = []\n",
    "for tr in tr_list: # 10일치 뽑아내기\n",
    "    day = extract_day(tr)\n",
    "    days.append(day) # 2차원 리스트로 만들어줌\n",
    "    \n",
    "df = pandas.DataFrame(days) # 판다스 데이터프레임으로 만들어줌\n",
    "df.columns = ['date','close','start','max','min','volume']\n",
    "df.set_index('date',inplace=True)\n",
    "df['close']"
   ]
  },
  {
   "cell_type": "code",
   "execution_count": 155,
   "metadata": {},
   "outputs": [
    {
     "data": {
      "text/plain": [
       "<AxesSubplot:>"
      ]
     },
     "execution_count": 155,
     "metadata": {},
     "output_type": "execute_result"
    },
    {
     "data": {
      "image/png": "[encoded data removed]",
      "text/plain": [
       "<Figure size 432x288 with 1 Axes>"
      ]
     },
     "metadata": {
      "needs_background": "light"
     },
     "output_type": "display_data"
    }
   ],
   "source": [
    "tr_list = make_tr_list(html)\n",
    "df = pandas.DataFrame(columns = ['close','start','max','min','volume'])\n",
    "for tr in tr_list: \n",
    "    day = extract_day(tr)\n",
    "    df.loc[day[0]] = day[1:]\n",
    "df['close'].plot()"
   ]
  },
  {
   "cell_type": "code",
   "execution_count": 157,
   "metadata": {},
   "outputs": [
    {
     "name": "stdout",
     "output_type": "stream",
     "text": [
      "<class 'pandas.core.frame.DataFrame'>\n",
      "Index: 10 entries, 2021.01.08 to 2020.12.23\n",
      "Data columns (total 5 columns):\n",
      " #   Column  Non-Null Count  Dtype \n",
      "---  ------  --------------  ----- \n",
      " 0   close   10 non-null     object\n",
      " 1   start   10 non-null     object\n",
      " 2   max     10 non-null     object\n",
      " 3   min     10 non-null     object\n",
      " 4   volume  10 non-null     object\n",
      "dtypes: object(5)\n",
      "memory usage: 480.0+ bytes\n"
     ]
    }
   ],
   "source": [
    "df.info() # 데이터프레임의 내용 확인 (데이터의 자료형 및 결측치 확인 가능)"
   ]
  },
  {
   "cell_type": "code",
   "execution_count": null,
   "metadata": {},
   "outputs": [],
   "source": []
  },
  {
   "cell_type": "code",
   "execution_count": null,
   "metadata": {},
   "outputs": [],
   "source": []
  },
  {
   "cell_type": "code",
   "execution_count": null,
   "metadata": {},
   "outputs": [],
   "source": []
  },
  {
   "cell_type": "code",
   "execution_count": null,
   "metadata": {},
   "outputs": [],
   "source": []
  },
  {
   "cell_type": "code",
   "execution_count": null,
   "metadata": {},
   "outputs": [],
   "source": []
  },
  {
   "cell_type": "code",
   "execution_count": null,
   "metadata": {},
   "outputs": [],
   "source": []
  },
  {
   "cell_type": "code",
   "execution_count": null,
   "metadata": {},
   "outputs": [],
   "source": []
  }
 ],
 "metadata": {
  "kernelspec": {
   "display_name": "Python 3",
   "language": "python",
   "name": "python3"
  },
  "language_info": {
   "codemirror_mode": {
    "name": "ipython",
    "version": 3
   },
   "file_extension": ".py",
   "mimetype": "text/x-python",
   "name": "python",
   "nbconvert_exporter": "python",
   "pygments_lexer": "ipython3",
   "version": "3.9.1"
  }
 },
 "nbformat": 4,
 "nbformat_minor": 4
}
