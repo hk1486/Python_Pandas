{
 "cells": [
  {
   "cell_type": "markdown",
   "metadata": {},
   "source": [
    "# 2014~2020까지 11, 12월달 벅스차트 뽑아와서 크리스마스 연금노래 그래프 그려보기"
   ]
  },
  {
   "cell_type": "code",
   "execution_count": 35,
   "metadata": {},
   "outputs": [],
   "source": [
    "import pandas\n",
    "import calendar"
   ]
  },
  {
   "cell_type": "code",
   "execution_count": 36,
   "metadata": {},
   "outputs": [
    {
     "data": {
      "text/html": [
       "<div>\n",
       "<style scoped>\n",
       "    .dataframe tbody tr th:only-of-type {\n",
       "        vertical-align: middle;\n",
       "    }\n",
       "\n",
       "    .dataframe tbody tr th {\n",
       "        vertical-align: top;\n",
       "    }\n",
       "\n",
       "    .dataframe thead th {\n",
       "        text-align: right;\n",
       "    }\n",
       "</style>\n",
       "<table border=\"1\" class=\"dataframe\">\n",
       "  <thead>\n",
       "    <tr style=\"text-align: right;\">\n",
       "      <th></th>\n",
       "      <th>date</th>\n",
       "      <th>rank</th>\n",
       "      <th>title</th>\n",
       "      <th>artist</th>\n",
       "      <th>album</th>\n",
       "    </tr>\n",
       "  </thead>\n",
       "  <tbody>\n",
       "    <tr>\n",
       "      <th>0</th>\n",
       "      <td>2014-11-01</td>\n",
       "      <td>1</td>\n",
       "      <td>헤픈엔딩 (feat. 조원선 Of 롤러코스터)</td>\n",
       "      <td>에픽하이 (EPIK HIGH)</td>\n",
       "      <td>신발장</td>\n",
       "    </tr>\n",
       "    <tr>\n",
       "      <th>1</th>\n",
       "      <td>2014-11-01</td>\n",
       "      <td>2</td>\n",
       "      <td>12시 30분</td>\n",
       "      <td>비스트(Beast)</td>\n",
       "      <td>Time</td>\n",
       "    </tr>\n",
       "    <tr>\n",
       "      <th>2</th>\n",
       "      <td>2014-11-01</td>\n",
       "      <td>3</td>\n",
       "      <td>언제쯤이면 (duet with 아이유)</td>\n",
       "      <td>윤현상</td>\n",
       "      <td>피아노포르테 (Pianoforte)</td>\n",
       "    </tr>\n",
       "    <tr>\n",
       "      <th>3</th>\n",
       "      <td>2014-11-01</td>\n",
       "      <td>4</td>\n",
       "      <td>스포일러</td>\n",
       "      <td>에픽하이 (EPIK HIGH)</td>\n",
       "      <td>신발장</td>\n",
       "    </tr>\n",
       "    <tr>\n",
       "      <th>4</th>\n",
       "      <td>2014-11-01</td>\n",
       "      <td>5</td>\n",
       "      <td>어떻게 사랑이 그래요</td>\n",
       "      <td>이승환</td>\n",
       "      <td>Hwantastic</td>\n",
       "    </tr>\n",
       "    <tr>\n",
       "      <th>...</th>\n",
       "      <td>...</td>\n",
       "      <td>...</td>\n",
       "      <td>...</td>\n",
       "      <td>...</td>\n",
       "      <td>...</td>\n",
       "    </tr>\n",
       "    <tr>\n",
       "      <th>95</th>\n",
       "      <td>2020-12-31</td>\n",
       "      <td>96</td>\n",
       "      <td>Ice Cream (with Selena Gomez)</td>\n",
       "      <td>BLACKPINK</td>\n",
       "      <td>Ice Cream (with Selena Gomez)</td>\n",
       "    </tr>\n",
       "    <tr>\n",
       "      <th>96</th>\n",
       "      <td>2020-12-31</td>\n",
       "      <td>97</td>\n",
       "      <td>METEOR</td>\n",
       "      <td>창모(CHANGMO)</td>\n",
       "      <td>Boyhood</td>\n",
       "    </tr>\n",
       "    <tr>\n",
       "      <th>97</th>\n",
       "      <td>2020-12-31</td>\n",
       "      <td>98</td>\n",
       "      <td>뚜두뚜두 (DDU-DU DDU-DU)</td>\n",
       "      <td>BLACKPINK</td>\n",
       "      <td>SQUARE UP</td>\n",
       "    </tr>\n",
       "    <tr>\n",
       "      <th>98</th>\n",
       "      <td>2020-12-31</td>\n",
       "      <td>99</td>\n",
       "      <td>Bet You Wanna (Feat. Cardi B)</td>\n",
       "      <td>BLACKPINK</td>\n",
       "      <td>THE ALBUM</td>\n",
       "    </tr>\n",
       "    <tr>\n",
       "      <th>99</th>\n",
       "      <td>2020-12-31</td>\n",
       "      <td>100</td>\n",
       "      <td>사계 (Four Seasons)</td>\n",
       "      <td>태연 (TAEYEON)</td>\n",
       "      <td>사계 (Four Seasons)</td>\n",
       "    </tr>\n",
       "  </tbody>\n",
       "</table>\n",
       "<p>42700 rows × 5 columns</p>\n",
       "</div>"
      ],
      "text/plain": [
       "         date rank                          title            artist  \\\n",
       "0  2014-11-01    1      헤픈엔딩 (feat. 조원선 Of 롤러코스터)  에픽하이 (EPIK HIGH)   \n",
       "1  2014-11-01    2                        12시 30분        비스트(Beast)   \n",
       "2  2014-11-01    3          언제쯤이면 (duet with 아이유)               윤현상   \n",
       "3  2014-11-01    4                           스포일러  에픽하이 (EPIK HIGH)   \n",
       "4  2014-11-01    5                    어떻게 사랑이 그래요               이승환   \n",
       "..        ...  ...                            ...               ...   \n",
       "95 2020-12-31   96  Ice Cream (with Selena Gomez)         BLACKPINK   \n",
       "96 2020-12-31   97                         METEOR       창모(CHANGMO)   \n",
       "97 2020-12-31   98           뚜두뚜두 (DDU-DU DDU-DU)         BLACKPINK   \n",
       "98 2020-12-31   99  Bet You Wanna (Feat. Cardi B)         BLACKPINK   \n",
       "99 2020-12-31  100              사계 (Four Seasons)      태연 (TAEYEON)   \n",
       "\n",
       "                            album  \n",
       "0                             신발장  \n",
       "1                            Time  \n",
       "2             피아노포르테 (Pianoforte)  \n",
       "3                             신발장  \n",
       "4                      Hwantastic  \n",
       "..                            ...  \n",
       "95  Ice Cream (with Selena Gomez)  \n",
       "96                        Boyhood  \n",
       "97                      SQUARE UP  \n",
       "98                      THE ALBUM  \n",
       "99              사계 (Four Seasons)  \n",
       "\n",
       "[42700 rows x 5 columns]"
      ]
     },
     "execution_count": 36,
     "metadata": {},
     "output_type": "execute_result"
    }
   ],
   "source": [
    "charts = pandas.DataFrame(columns = ['date','rank','title','artist','album'])\n",
    "\n",
    "for year in range(2014, 2021, 1):\n",
    "    for month in range(11, 13, 1):\n",
    "        days = calendar.monthrange(year, month)[1] + 1 # 12월이 31일이기 때문\n",
    "        for day in range(1, days, 1):\n",
    "            filename = rf'.\\Bugs\\bugs_chart_{year}.{month:02}.xls'\n",
    "            date = f'{year}{month:02}{day:02}'\n",
    "            df = pandas.read_excel(filename, sheet_name = date)\n",
    "            df.insert(0,'date',pandas.to_datetime(date))\n",
    "            charts = pandas.concat([charts, df], axis = 0)\n",
    "charts"
   ]
  },
  {
   "cell_type": "code",
   "execution_count": 37,
   "metadata": {},
   "outputs": [
    {
     "name": "stdout",
     "output_type": "stream",
     "text": [
      "<class 'pandas.core.frame.DataFrame'>\n",
      "Int64Index: 42700 entries, 0 to 99\n",
      "Data columns (total 5 columns):\n",
      " #   Column  Non-Null Count  Dtype         \n",
      "---  ------  --------------  -----         \n",
      " 0   date    42700 non-null  datetime64[ns]\n",
      " 1   rank    42700 non-null  int32         \n",
      " 2   title   42700 non-null  object        \n",
      " 3   artist  42700 non-null  object        \n",
      " 4   album   42700 non-null  object        \n",
      "dtypes: datetime64[ns](1), int32(1), object(3)\n",
      "memory usage: 1.8+ MB\n"
     ]
    }
   ],
   "source": [
    "charts['rank'] = charts['rank'].astype('int')\n",
    "charts.info()"
   ]
  },
  {
   "cell_type": "code",
   "execution_count": 59,
   "metadata": {},
   "outputs": [],
   "source": [
    "song = 'All I Want for Christmas Is You'\n",
    "\n",
    "mask = charts['title'] == song\n",
    "ndf = charts[mask]"
   ]
  },
  {
   "cell_type": "code",
   "execution_count": 60,
   "metadata": {},
   "outputs": [
    {
     "data": {
      "text/html": [
       "<div>\n",
       "<style scoped>\n",
       "    .dataframe tbody tr th:only-of-type {\n",
       "        vertical-align: middle;\n",
       "    }\n",
       "\n",
       "    .dataframe tbody tr th {\n",
       "        vertical-align: top;\n",
       "    }\n",
       "\n",
       "    .dataframe thead th {\n",
       "        text-align: right;\n",
       "    }\n",
       "</style>\n",
       "<table border=\"1\" class=\"dataframe\">\n",
       "  <thead>\n",
       "    <tr style=\"text-align: right;\">\n",
       "      <th></th>\n",
       "      <th>rank</th>\n",
       "      <th>title</th>\n",
       "      <th>artist</th>\n",
       "      <th>album</th>\n",
       "    </tr>\n",
       "    <tr>\n",
       "      <th>date</th>\n",
       "      <th></th>\n",
       "      <th></th>\n",
       "      <th></th>\n",
       "      <th></th>\n",
       "    </tr>\n",
       "  </thead>\n",
       "  <tbody>\n",
       "    <tr>\n",
       "      <th>2014-12-13</th>\n",
       "      <td>51</td>\n",
       "      <td>All I Want for Christmas Is You</td>\n",
       "      <td>Mariah Carey(머라이어 캐리)</td>\n",
       "      <td>Merry Christmas (Deluxe Anniversary Edition)</td>\n",
       "    </tr>\n",
       "    <tr>\n",
       "      <th>2014-12-14</th>\n",
       "      <td>66</td>\n",
       "      <td>All I Want for Christmas Is You</td>\n",
       "      <td>Mariah Carey(머라이어 캐리)</td>\n",
       "      <td>Merry Christmas (Deluxe Anniversary Edition)</td>\n",
       "    </tr>\n",
       "    <tr>\n",
       "      <th>2014-12-15</th>\n",
       "      <td>61</td>\n",
       "      <td>All I Want for Christmas Is You</td>\n",
       "      <td>Mariah Carey(머라이어 캐리)</td>\n",
       "      <td>Merry Christmas (Deluxe Anniversary Edition)</td>\n",
       "    </tr>\n",
       "    <tr>\n",
       "      <th>2014-12-16</th>\n",
       "      <td>52</td>\n",
       "      <td>All I Want for Christmas Is You</td>\n",
       "      <td>Mariah Carey(머라이어 캐리)</td>\n",
       "      <td>Merry Christmas (Deluxe Anniversary Edition)</td>\n",
       "    </tr>\n",
       "    <tr>\n",
       "      <th>2014-12-17</th>\n",
       "      <td>55</td>\n",
       "      <td>All I Want for Christmas Is You</td>\n",
       "      <td>Mariah Carey(머라이어 캐리)</td>\n",
       "      <td>Merry Christmas (Deluxe Anniversary Edition)</td>\n",
       "    </tr>\n",
       "  </tbody>\n",
       "</table>\n",
       "</div>"
      ],
      "text/plain": [
       "            rank                            title                 artist  \\\n",
       "date                                                                       \n",
       "2014-12-13    51  All I Want for Christmas Is You  Mariah Carey(머라이어 캐리)   \n",
       "2014-12-14    66  All I Want for Christmas Is You  Mariah Carey(머라이어 캐리)   \n",
       "2014-12-15    61  All I Want for Christmas Is You  Mariah Carey(머라이어 캐리)   \n",
       "2014-12-16    52  All I Want for Christmas Is You  Mariah Carey(머라이어 캐리)   \n",
       "2014-12-17    55  All I Want for Christmas Is You  Mariah Carey(머라이어 캐리)   \n",
       "\n",
       "                                                   album  \n",
       "date                                                      \n",
       "2014-12-13  Merry Christmas (Deluxe Anniversary Edition)  \n",
       "2014-12-14  Merry Christmas (Deluxe Anniversary Edition)  \n",
       "2014-12-15  Merry Christmas (Deluxe Anniversary Edition)  \n",
       "2014-12-16  Merry Christmas (Deluxe Anniversary Edition)  \n",
       "2014-12-17  Merry Christmas (Deluxe Anniversary Edition)  "
      ]
     },
     "execution_count": 60,
     "metadata": {},
     "output_type": "execute_result"
    }
   ],
   "source": [
    "ndf.set_index('date',inplace=True)\n",
    "ndf.head()"
   ]
  },
  {
   "cell_type": "code",
   "execution_count": 56,
   "metadata": {},
   "outputs": [
    {
     "data": {
      "text/plain": [
       "(100.0, 0.0)"
      ]
     },
     "execution_count": 56,
     "metadata": {},
     "output_type": "execute_result"
    },
    {
     "data": {
      "image/png": "[encoded data removed]",
      "text/plain": [
       "<Figure size 720x360 with 1 Axes>"
      ]
     },
     "metadata": {
      "needs_background": "light"
     },
     "output_type": "display_data"
    }
   ],
   "source": [
    "from matplotlib import pyplot\n",
    "\n",
    "figure = pyplot.figure(figsize=(10,5))\n",
    "ax = figure.add_subplot(1,1,1)\n",
    "\n",
    "for i in range(2014,2021):    \n",
    "    ax.plot(ndf['rank'][str(i)], label = i)\n",
    "    \n",
    "pyplot.legend(loc = 'upper right')\n",
    "pyplot.ylim(100,0)"
   ]
  },
  {
   "cell_type": "code",
   "execution_count": null,
   "metadata": {},
   "outputs": [],
   "source": []
  }
 ],
 "metadata": {
  "kernelspec": {
   "display_name": "Python 3",
   "language": "python",
   "name": "python3"
  },
  "language_info": {
   "codemirror_mode": {
    "name": "ipython",
    "version": 3
   },
   "file_extension": ".py",
   "mimetype": "text/x-python",
   "name": "python",
   "nbconvert_exporter": "python",
   "pygments_lexer": "ipython3",
   "version": "3.9.1"
  }
 },
 "nbformat": 4,
 "nbformat_minor": 4
}
